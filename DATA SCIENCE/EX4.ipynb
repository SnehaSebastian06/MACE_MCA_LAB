{
  "nbformat": 4,
  "nbformat_minor": 0,
  "metadata": {
    "colab": {
      "provenance": []
    },
    "kernelspec": {
      "name": "python3",
      "display_name": "Python 3"
    },
    "language_info": {
      "name": "python"
    }
  },
  "cells": [
    {
      "cell_type": "markdown",
      "source": [
        "IMPORT LIBRARIES"
      ],
      "metadata": {
        "id": "7BKNpoJCLAe2"
      }
    },
    {
      "cell_type": "code",
      "source": [
        "import pandas as pd\n",
        "import numpy as np\n",
        "from sklearn.model_selection import train_test_split"
      ],
      "metadata": {
        "id": "2o6Qa_Oa1TGp"
      },
      "execution_count": null,
      "outputs": []
    },
    {
      "cell_type": "markdown",
      "source": [
        "READ CSV FILE"
      ],
      "metadata": {
        "id": "7952f3-9LEQy"
      }
    },
    {
      "cell_type": "code",
      "source": [
        "iris_df= pd.read_csv('iris.csv')"
      ],
      "metadata": {
        "id": "yvy2T0xmKdzN"
      },
      "execution_count": null,
      "outputs": []
    },
    {
      "cell_type": "code",
      "source": [
        "X=iris_df[['sepal.length', 'sepal.width', 'petal.length', 'petal.width']].values\n",
        "y=iris_df['variety'].values"
      ],
      "metadata": {
        "id": "5cfzmy_3NplN"
      },
      "execution_count": null,
      "outputs": []
    },
    {
      "cell_type": "markdown",
      "source": [
        "SPLIT DATASET"
      ],
      "metadata": {
        "id": "k2VBdbLcOlpe"
      }
    },
    {
      "cell_type": "code",
      "source": [
        "X_train, X_test, y_train, y_test=train_test_split(X, y, test_size=0.3, random_state=42)"
      ],
      "metadata": {
        "id": "-3RRlSBMOicr"
      },
      "execution_count": null,
      "outputs": []
    },
    {
      "cell_type": "markdown",
      "source": [
        "KNN CLASSIFIER"
      ],
      "metadata": {
        "id": "Go5Hya8nNLls"
      }
    },
    {
      "cell_type": "code",
      "source": [
        "def knn_predict(X_train, y_train, X_test, k):\n",
        "  predictions=[]\n",
        "  for test_sample in X_test:\n",
        "    distances=[np.sqrt(np.sum((train_sample - test_sample) ** 2)) for train_sample in X_train]\n",
        "    k_indices=np.argsort(distances)[:k]\n",
        "    k_nearest_labels=[y_train[i] for i in k_indices]\n",
        "    class_counts={}\n",
        "    for label in k_nearest_labels:\n",
        "      if label in class_counts:\n",
        "        class_counts[label] += 1\n",
        "      else:\n",
        "        class_counts[label] = 1\n",
        "    most_common=max(class_counts, key=class_counts.get)\n",
        "    predictions.append(most_common)\n",
        "  return predictions\n",
        "k = int(np.sqrt(len(X_train)))\n",
        "y_pred = knn_predict(X_train, y_train, X_test, k)\n",
        "correct = sum(np.array(y_pred) == np.array(y_test))\n",
        "accuracy = (correct / len(y_test)) * 100\n",
        "print(\"Accuracy:\", accuracy)"
      ],
      "metadata": {
        "colab": {
          "base_uri": "https://localhost:8080/"
        },
        "id": "J9dmrM5PWuNG",
        "outputId": "0cc7c3d0-6c0c-46ed-b096-7190fa5ad982"
      },
      "execution_count": null,
      "outputs": [
        {
          "output_type": "stream",
          "name": "stdout",
          "text": [
            "Accuracy: 100.0\n"
          ]
        }
      ]
    },
    {
      "cell_type": "code",
      "source": [
        "new_data_point=[[6.5, 3.2, 3.9, 1]]\n",
        "k = int(np.sqrt(len(X_train)))\n",
        "new_data_predict=knn_predict(X_train, y_train, new_data_point, k)\n",
        "print(\"Predicted Class:\", new_data_predict[0])"
      ],
      "metadata": {
        "colab": {
          "base_uri": "https://localhost:8080/"
        },
        "id": "JPIkP_3tW7Dg",
        "outputId": "b129d92a-1d60-4931-dd74-e8e8ef5540c0"
      },
      "execution_count": null,
      "outputs": [
        {
          "output_type": "stream",
          "name": "stdout",
          "text": [
            "Predicted Class: Versicolor\n"
          ]
        }
      ]
    }
  ]
}